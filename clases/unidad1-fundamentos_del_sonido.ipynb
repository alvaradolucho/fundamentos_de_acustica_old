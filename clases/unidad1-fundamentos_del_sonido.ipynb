{
 "cells": [
  {
   "cell_type": "markdown",
   "id": "45ff48ba-7b02-4849-aa7a-ba90cb7896ed",
   "metadata": {},
   "source": [
    "## Prefijos científicos"
   ]
  },
  {
   "cell_type": "markdown",
   "id": "3f3c6dc6-30e8-4169-b019-f6dfa9a769cd",
   "metadata": {},
   "source": [
    "## Sistema Internacional de Unidades"
   ]
  },
  {
   "cell_type": "markdown",
   "id": "7bc34ab2-bc27-4d5b-ace0-1630fcce2648",
   "metadata": {
    "tags": []
   },
   "source": [
    "## Acústica\n",
    "\n",
    "Acústica es la rama de la física que estudia los fenómenos asociados a la **generación**, **propagación** y **recepción** del sonido.\n",
    "\n"
   ]
  },
  {
   "cell_type": "markdown",
   "id": "f0351c0d-8797-4661-9fec-bb927b1a6e8c",
   "metadata": {},
   "source": [
    "El **sonido** es una perturbación producida en un medio elástico, como el *aire*. Aquellas perturbaciones suelen ser extremadamente pequeñas, pero alguna *suficientemente* grande será visible al ojo humano, como en el [siguiente caso (min 4:37)](https://www.youtube.com/watch?v=sv0tGx80yLk).\n",
    "\n",
    "La acústica al ser una rama de la física, interactúa constantemente con otras ramas, las que se nombran a continuación.\n",
    "\n",
    "| Medio | Rama de la física |\n",
    "| ----------- | ----------- |\n",
    "| Sólidos  | Mecánica |\n",
    "| Fluidos (Aire) | Acústica |\n",
    "| Vacío | Electromagnetismo |\n",
    "\n",
    "Los ejemplos de interacción entre estas tres ramas de la física más conocidos son los **micrófonos** y **altavoces**.\n",
    "\n",
    "### Sonido\n",
    "\n",
    "Entenderemos como **sonido** a aquellas pertubaciones en el aire (desde ahora **señales acústicas**) que pueden ser percibidas por el ser humano. El oído humano es capaz de escuchar las perturbaciones sonoras entre las 20 y las 20.000 oscilaciones por cada segundo (o Hz). Todo lo demás es imperceptible por el oído humano, siendo el rango inferior conocido como **infrasonido** y el superior como **ultrasonido**.\n",
    "\n",
    "\n",
    "**<center>Rangos de frecuencia</center>**\n",
    "\n",
    "| Menor a 20 Hz | Entre 20 Hz a 20 kHz | Mayor a 20 kHz |\n",
    "| ----------- | ----------- | ----------- | \n",
    "| Infrasonido  | Sonido | Ultrasonido |\n",
    "\n",
    "<!-- ![convert notebook to web app](https://raw.githubusercontent.com/mljar/visual-identity/main/mercury/mercury_convert_notebook.png)\n",
    "-->\n",
    "\n",
    "### Elementos del sonido\n",
    "\n",
    "Actualmente se reconocen cinco elementos del sonido: **amplitud**, **frecuencia**, **timbre**, **duración** y **ataque**.\n",
    "\n",
    "* **Amplitud:**  Se refiere al tamaño de la onda y está relacionado con la intensidad sonora, o dicho de otra forma: **sonoridad** (*loudness*).\n",
    "* **Tono:**  Se refiere a la altura tonal de la onda y está relacionada con la **frecuencia de oscilación**.\n",
    "* **Timbre:** Se refiere a la cualidad que hace distinguibles a las fuentes sonoras. Está relacionada con la **forma de la onda** y su **espectro de frecuencias**.\n",
    "* **Duración:** El **tiempo** en que el sonido se mantiene en ejecución.\n",
    "* **Ataque:** El tiempo en que el sonido demora en llegar, desde el silencio hasta su máxima amplitud. Está relacionada con la *percusividad* del sonido.\n",
    "\n",
    "Consideremos un **tono puro**. La ecuación que lo representa se muestra a continuación:\n",
    "\n",
    "$$y = A\\sin(\\omega t + \\phi)$$\n",
    "\n",
    "En donde:\n",
    "* $y$ es la posición de la onda en un tiempo determinado.\n",
    "* $A$ es la amplitud de la onda.\n",
    "* $\\omega$ es la velocidad angular de la oscilación. Se puede obtener conociendo la frecuencia de la onda, mediante $\\omega = 2\\pi f$.\n",
    "* $t$ es un instante de tiempo determinado.\n",
    "* $\\phi$ es el desfase de la onda respecto de un comienzo determinado.\n",
    "\n",
    "La gráfica interactiva a continuación nos muestra la forma de este tono puro."
   ]
  },
  {
   "cell_type": "code",
   "execution_count": 23,
   "id": "2abe8fcb-cb04-48d2-839a-954313f40584",
   "metadata": {},
   "outputs": [
    {
     "data": {
      "application/vnd.jupyter.widget-view+json": {
       "model_id": "dfbdf8254e01476388c075c96abb7b2a",
       "version_major": 2,
       "version_minor": 0
      },
      "text/plain": [
       "interactive(children=(FloatSlider(value=5.0, description='frecuencia', max=10.0, min=1.0, step=0.01), FloatSli…"
      ]
     },
     "metadata": {},
     "output_type": "display_data"
    }
   ],
   "source": [
    "%run ejemplos/1_oscilador_senoidal.py"
   ]
  },
  {
   "cell_type": "code",
   "execution_count": null,
   "id": "6d40e59d-30d1-4fe2-ae46-22a33759a8e6",
   "metadata": {},
   "outputs": [],
   "source": []
  }
 ],
 "metadata": {
  "kernelspec": {
   "display_name": "Python 3 (ipykernel)",
   "language": "python",
   "name": "python3"
  },
  "language_info": {
   "codemirror_mode": {
    "name": "ipython",
    "version": 3
   },
   "file_extension": ".py",
   "mimetype": "text/x-python",
   "name": "python",
   "nbconvert_exporter": "python",
   "pygments_lexer": "ipython3",
   "version": "3.11.2"
  }
 },
 "nbformat": 4,
 "nbformat_minor": 5
}
