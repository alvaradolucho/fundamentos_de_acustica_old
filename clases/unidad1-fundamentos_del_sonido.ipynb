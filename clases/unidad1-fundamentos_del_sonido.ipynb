{
 "cells": [
  {
   "cell_type": "markdown",
   "id": "45ff48ba-7b02-4849-aa7a-ba90cb7896ed",
   "metadata": {
    "iooxa": {
     "id": {
      "block": "2T89h062tctiACUPOJt9",
      "project": "OkUU4QDlQhht6uz4byLE",
      "version": 1
     }
    }
   },
   "source": [
    "## Prefijos científicos"
   ]
  },
  {
   "cell_type": "markdown",
   "id": "3f3c6dc6-30e8-4169-b019-f6dfa9a769cd",
   "metadata": {
    "iooxa": {
     "id": {
      "block": "tyLqMYMHRDe6pxlK1EbG",
      "project": "OkUU4QDlQhht6uz4byLE",
      "version": 1
     }
    }
   },
   "source": [
    "## Principios Físicos\n",
    "\n",
    "En la física exploramos desde lo más pequeño hasta lo más grande. Desde una fracción pequeña de un protón hasta el universo mismo, contemplando aproximadamente 45 órdenes de magnitud. Para expresar las mediciones cuantitativamente, necesitamos introducir las **unidades de medida**. Las unidades fundamentales de la física son: **longitud**, **tiempo** y **masa**.\n",
    "\n",
    "| Longitud | Tiempo | Masa |\n",
    "|----------|--------|------|\n",
    "| Metros | Segundos | Hilógramos |\n",
    "| m | s | kg |\n",
    "\n",
    "A partir de estas unidades, se pueden desarrollar teóricamente todas las unidades derivadas, como centrímetros (cm), milímetros (mm), minutos (min), horas (hrs), días, años, milisegundos (ms), gramos (g), litros (lt), etc."
   ]
  },
  {
   "cell_type": "markdown",
   "id": "7bc34ab2-bc27-4d5b-ace0-1630fcce2648",
   "metadata": {
    "iooxa": {
     "id": {
      "block": "u6aDtWVSryPHlWHRdUe5",
      "project": "OkUU4QDlQhht6uz4byLE",
      "version": 1
     }
    },
    "tags": []
   },
   "source": [
    "## Acústica\n",
    "\n",
    "Acústica es la rama de la física que estudia los fenómenos asociados a la **generación**, **propagación** y **recepción** del sonido.\n",
    "\n"
   ]
  },
  {
   "cell_type": "markdown",
   "id": "f0351c0d-8797-4661-9fec-bb927b1a6e8c",
   "metadata": {
    "iooxa": {
     "id": {
      "block": "OxkUMSwCmk9UnnaE99ga",
      "project": "OkUU4QDlQhht6uz4byLE",
      "version": 1
     }
    }
   },
   "source": [
    "El **sonido** es una perturbación producida en un medio elástico, como el *aire*. Aquellas perturbaciones suelen ser extremadamente pequeñas, pero alguna *suficientemente* grande será visible al ojo humano, como en el [siguiente caso (min 4:37)](https://www.youtube.com/watch?v=sv0tGx80yLk).\n",
    "\n",
    "La acústica al ser una rama de la física, interactúa constantemente con otras ramas, las que se nombran a continuación.\n",
    "\n",
    "| Medio | Rama de la física |\n",
    "| ----------- | ----------- |\n",
    "| Sólidos  | Mecánica |\n",
    "| Fluidos (Aire) | Acústica |\n",
    "| Vacío | Electromagnetismo |\n",
    "\n",
    "Los ejemplos de interacción entre estas tres ramas de la física más conocidos son los **micrófonos** y **altavoces**.\n",
    "\n",
    "### Sonido\n",
    "\n",
    "Entenderemos como **sonido** a aquellas pertubaciones en el aire (desde ahora **señales acústicas**) que pueden ser percibidas por el ser humano. El oído humano es capaz de escuchar las perturbaciones sonoras entre las 20 y las 20.000 oscilaciones por cada segundo (o Hz). Todo lo demás es imperceptible por el oído humano, siendo el rango inferior conocido como **infrasonido** y el superior como **ultrasonido**.\n",
    "\n",
    "\n",
    "**<center>Rangos de frecuencia</center>**\n",
    "\n",
    "| Menor a 20 Hz | Entre 20 Hz a 20 kHz | Mayor a 20 kHz |\n",
    "| ----------- | ----------- | ----------- | \n",
    "| Infrasonido  | Sonido | Ultrasonido |\n",
    "\n",
    "<!-- ![convert notebook to web app](https://raw.githubusercontent.com/mljar/visual-identity/main/mercury/mercury_convert_notebook.png)\n",
    "-->\n",
    "\n",
    "### Elementos del sonido\n",
    "\n",
    "Actualmente se reconocen cinco elementos del sonido: **amplitud**, **frecuencia**, **timbre**, **duración** y **ataque**.\n",
    "\n",
    "* **Amplitud:**  Se refiere al tamaño de la onda y está relacionado con la intensidad sonora, o dicho de otra forma: **sonoridad** (*loudness*).\n",
    "* **Tono:**  Se refiere a la altura tonal de la onda y está relacionada con la **frecuencia de oscilación**.\n",
    "* **Timbre:** Se refiere a la cualidad que hace distinguibles a las fuentes sonoras. Está relacionada con la **forma de la onda** y su **espectro de frecuencias**.\n",
    "* **Duración:** El **tiempo** en que el sonido se mantiene en ejecución.\n",
    "* **Ataque:** El tiempo en que el sonido demora en llegar, desde el silencio hasta su máxima amplitud. Está relacionada con la *percusividad* del sonido.\n",
    "\n",
    "Consideremos un **tono puro**. La ecuación que lo representa se muestra a continuación:\n",
    "\n",
    "$$y = A\\sin(\\omega t + \\phi)$$\n",
    "\n",
    "En donde:\n",
    "* $y$ es la posición de la onda en un tiempo determinado.\n",
    "* $A$ es la amplitud de la onda.\n",
    "* $\\omega$ es la velocidad angular de la oscilación. Se puede obtener conociendo la frecuencia de la onda, mediante $\\omega = 2\\pi f$.\n",
    "* $t$ es un instante de tiempo determinado.\n",
    "* $\\phi$ es el desfase de la onda respecto de un comienzo determinado.\n",
    "\n",
    "La gráfica interactiva a continuación nos muestra la forma de este tono puro."
   ]
  },
  {
   "cell_type": "code",
   "execution_count": 1,
   "id": "2abe8fcb-cb04-48d2-839a-954313f40584",
   "metadata": {
    "iooxa": {
     "id": {
      "block": "4q2N28cGZxYZ7hlryhof",
      "project": "OkUU4QDlQhht6uz4byLE",
      "version": 1
     },
     "outputId": {
      "block": "rnm5fUvz36HYMyo7slRe",
      "project": "OkUU4QDlQhht6uz4byLE",
      "version": 1
     }
    },
    "tags": []
   },
   "outputs": [
    {
     "data": {
      "application/vnd.jupyter.widget-view+json": {
       "model_id": "94c5f5104dce4b93b139452d436e83a1",
       "version_major": 2,
       "version_minor": 0
      },
      "text/plain": [
       "interactive(children=(FloatSlider(value=5.0, description='frecuencia', max=10.0, min=1.0, step=0.01), FloatSli…"
      ]
     },
     "metadata": {},
     "output_type": "display_data"
    }
   ],
   "source": [
    "%run ejemplos/1_oscilador_senoidal.py"
   ]
  },
  {
   "cell_type": "markdown",
   "id": "79233554-9105-4164-bd05-128917bfae7e",
   "metadata": {},
   "source": [
    "## Propagación del sonido\n",
    "\n",
    "Para que haya sonido debe haber un medio elástico por donde se propague. Imaginémoslo como gotas que caen en medio del lago. Nuestro medio, como hemos dicho, es el aire, pero los principios que veremos en este curso servirán para todo medio elástico, sea aire, agua, aceite, etc."
   ]
  },
  {
   "cell_type": "code",
   "execution_count": null,
   "id": "da5a8863-c88a-4a9d-9ff2-49bbc622f766",
   "metadata": {},
   "outputs": [],
   "source": []
  },
  {
   "cell_type": "markdown",
   "id": "2726fd97-3d2b-4952-b20e-c5746ed2e091",
   "metadata": {},
   "source": []
  }
 ],
 "metadata": {
  "iooxa": {
   "id": {
    "block": "1adh7M7luY3tOYPCiCW0",
    "project": "OkUU4QDlQhht6uz4byLE",
    "version": 3
   }
  },
  "kernelspec": {
   "display_name": "Python 3 (ipykernel)",
   "language": "python",
   "name": "python3"
  },
  "language_info": {
   "codemirror_mode": {
    "name": "ipython",
    "version": 3
   },
   "file_extension": ".py",
   "mimetype": "text/x-python",
   "name": "python",
   "nbconvert_exporter": "python",
   "pygments_lexer": "ipython3",
   "version": "3.11.2"
  }
 },
 "nbformat": 4,
 "nbformat_minor": 5
}
